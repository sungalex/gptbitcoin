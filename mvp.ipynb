{
 "cells": [
  {
   "cell_type": "markdown",
   "metadata": {},
   "source": [
    "## 1. 업비트 차트 가져오기 (30일 일봉)"
   ]
  },
  {
   "cell_type": "code",
   "execution_count": null,
   "metadata": {},
   "outputs": [],
   "source": [
    "import os\n",
    "from dotenv import load_dotenv\n",
    "import pyupbit\n",
    "import json\n",
    "\n",
    "load_dotenv()"
   ]
  },
  {
   "cell_type": "code",
   "execution_count": 2,
   "metadata": {},
   "outputs": [],
   "source": [
    "df = pyupbit.get_ohlcv(\"KRW-BTC\", count=30, interval=\"day\")"
   ]
  },
  {
   "cell_type": "code",
   "execution_count": null,
   "metadata": {},
   "outputs": [],
   "source": [
    "print(df.to_json())"
   ]
  },
  {
   "cell_type": "markdown",
   "metadata": {},
   "source": [
    "## 2. AI에게 차트 주고 투자 판단 받기 (Buy, Sell, Hold)"
   ]
  },
  {
   "cell_type": "code",
   "execution_count": 9,
   "metadata": {},
   "outputs": [],
   "source": [
    "from openai import OpenAI\n",
    "client = OpenAI(api_key=os.getenv(\"OPENAI_API_KEY\"))\n",
    "\n",
    "response = client.chat.completions.create(\n",
    "  model=\"gpt-4o\",\n",
    "  messages=[\n",
    "    {\n",
    "      \"role\": \"system\",\n",
    "      \"content\": [\n",
    "        {\n",
    "          \"type\": \"text\",\n",
    "          \"text\": \"You are a Bitcoin investment expert.\\nTell me which option to buy, sell, or hold based on the provided chart data. \\n\\nresponse example:\\n{\\\"decision\\\":\\\"buy\\\",\\\"reason\\\":\\\"some technical reason\\\"}\\n{\\\"decision\\\":\\\"sell\\\",\\\"reason\\\":\\\"some technical reason\\\"}\\n{\\\"decision\\\":\\\"hole\\\",\\\"reason\\\":\\\"some technical reason\\\"}\"\n",
    "        }\n",
    "      ]\n",
    "    },\n",
    "    {\n",
    "      \"role\": \"user\",\n",
    "      \"content\": [\n",
    "        {\n",
    "          \"type\": \"text\",\n",
    "          \"text\": df.to_json()\n",
    "        }\n",
    "      ]\n",
    "    },\n",
    "  ],\n",
    "  temperature=1,\n",
    "  response_format={\n",
    "    \"type\": \"text\"\n",
    "  }\n",
    ")"
   ]
  },
  {
   "cell_type": "code",
   "execution_count": null,
   "metadata": {},
   "outputs": [],
   "source": [
    "result = response.choices[0].message.content\n",
    "print(result)\n",
    "print(type(result))\n",
    "\n",
    "result = json.loads(result)\n",
    "print(result)\n",
    "print(type(result))\n",
    "print(result[\"decision\"])"
   ]
  },
  {
   "cell_type": "markdown",
   "metadata": {},
   "source": [
    "## 3. 받은 데이터로 자동 매매하기"
   ]
  },
  {
   "cell_type": "code",
   "execution_count": 13,
   "metadata": {},
   "outputs": [],
   "source": [
    "access = os.getenv(\"UPBIT_ACCESS_KEY\")\n",
    "secret = os.getenv(\"UPBIT_SECRET_KEY\")\n",
    "upbit = pyupbit.Upbit(access,secret)"
   ]
  },
  {
   "cell_type": "code",
   "execution_count": 14,
   "metadata": {},
   "outputs": [],
   "source": [
    "def ai_trading():\n",
    "    print(f\"### decision: {result['decision']} ###\")\n",
    "    print(f\"### Reason: {result['reason']} ###\")\n",
    "\n",
    "    if result['decision'] == \"buy\":    # 매수\n",
    "        my_krw = upbit.get_balance(\"KRW\")\n",
    "        if my_krw > 10000*1.0005:\n",
    "            print(\"### Buy Order Executed ###\")\n",
    "            print(upbit.buy_market_order(\"KRW-BTC\", 10000))\n",
    "        else:\n",
    "            print(\"### 실패: 금액 부족 ###\")\n",
    "\n",
    "    elif result['decision'] == \"sell\":    # 매도\n",
    "        amount_my_btc = upbit.get_balance(\"KRW-BTC\")\n",
    "        current_price_btc = pyupbit.get_orderbook(ticker=\"KRW-BTC\")['orderbook_units'][0]['ask_price']\n",
    "        my_btc = amount_my_btc * current_price_btc\n",
    "        if my_btc >= 5000:\n",
    "            print(\"### Buy Sell Executed ###\")\n",
    "            print(upbit.sell_market_order(\"KRW-BTC\", amount_my_btc))\n",
    "        else:\n",
    "            print(\"### 실패: 코인 잔고 5000원 미만 ###\")\n",
    "\n",
    "    elif result['decision'] == \"hold\":    # 보유\n",
    "        print(result['reason'])"
   ]
  },
  {
   "cell_type": "code",
   "execution_count": null,
   "metadata": {},
   "outputs": [],
   "source": [
    "ai_trading()"
   ]
  },
  {
   "cell_type": "code",
   "execution_count": null,
   "metadata": {},
   "outputs": [],
   "source": []
  }
 ],
 "metadata": {
  "kernelspec": {
   "display_name": "venv",
   "language": "python",
   "name": "python3"
  },
  "language_info": {
   "codemirror_mode": {
    "name": "ipython",
    "version": 3
   },
   "file_extension": ".py",
   "mimetype": "text/x-python",
   "name": "python",
   "nbconvert_exporter": "python",
   "pygments_lexer": "ipython3",
   "version": "3.10.0"
  }
 },
 "nbformat": 4,
 "nbformat_minor": 2
}
